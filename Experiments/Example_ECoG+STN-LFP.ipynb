{
 "cells": [
  {
   "cell_type": "markdown",
   "id": "labeled-action",
   "metadata": {},
   "source": [
    "## ECoG+STN-LFP analysis: demo "
   ]
  },
  {
   "cell_type": "code",
   "execution_count": 1,
   "id": "quarterly-diploma",
   "metadata": {},
   "outputs": [],
   "source": [
    "# Import libraries\n",
    "import numpy as np\n",
    "from matplotlib import pyplot as plt\n",
    "from sklearn.metrics import r2_score\n",
    "import mne\n",
    "from mne.decoding import SPoC\n",
    "mne.set_log_level(verbose='warning') #to avoid info at terminal\n",
    "import pickle \n",
    "import sys\n",
    "# from Utilities folder\n",
    "sys.path.insert(1, './Utilities/icn_m1')\n",
    "import os\n",
    "sys.path.insert(1, './Utilities/')\n",
    "from FilterBank import FilterBank\n",
    "from ML_models import get_model\n",
    "\n",
    "from collections import OrderedDict\n",
    "from sklearn.model_selection import KFold\n",
    "from sklearn.preprocessing import StandardScaler"
   ]
  },
  {
   "cell_type": "code",
   "execution_count": 2,
   "id": "opposed-death",
   "metadata": {},
   "outputs": [],
   "source": [
    "# define settings\n",
    "settings = {}\n",
    "settings['data_path'] = 'YOUR_ADDRESS'\n",
    "settings['num_patients'] = ['000'] # for this example we only use one subject\n",
    "# subfolders indicates the session in this dataset\n",
    "settings['subfolders']=[['ses-right']]  # this subject only has one session"
   ]
  },
  {
   "cell_type": "code",
   "execution_count": 30,
   "id": "dutch-integration",
   "metadata": {},
   "outputs": [],
   "source": [
    "# define some experiments and model parameters\n",
    "laterality = [\"CON\", \"IPS\"]\n",
    "modality = [\"STN\", \"ECOG\", 'COMB']\n",
    "\n",
    "cv = KFold(n_splits=5, shuffle=False)\n",
    "spoc = SPoC(n_components=1, log=True, reg='oas', transform_into ='average_power', rank='full')\n",
    "USED_MODEL = 3 # 3 == GLM with alpha 0.5"
   ]
  },
  {
   "cell_type": "markdown",
   "id": "electoral-pitch",
   "metadata": {},
   "source": [
    "### Load the data from both modalities.\n",
    "This data was already pre-processed, following these steps:\n",
    "1. Epochs of 100 ms were extracted.\n",
    "2. Band-passed filtered epoched data at 8 frequency bands ([4, 8], [8, 12], [13, 20], [20, 35], [13, 35], [60, 80], [90, 200], [60, 200])\n",
    "3. The target variable was downsampled accordinly to the 100 ms epoch lenght.\n",
    "\n",
    "If you want to run this code with your own data, please be sure of arranging your data in a 4d array as follows:\n",
    "(epochs, channels, samples, frequency bands)"
   ]
  },
  {
   "cell_type": "code",
   "execution_count": 4,
   "id": "documentary-wyoming",
   "metadata": {},
   "outputs": [],
   "source": [
    "# declare saving variable\n",
    "score_ecog = OrderedDict()\n",
    "Coef_ecog = OrderedDict()\n",
    "\n",
    "score_stn = OrderedDict()\n",
    "Coef_stn = OrderedDict()\n",
    "\n",
    "score_comb = OrderedDict()\n",
    "Coef_comb = OrderedDict()         "
   ]
  },
  {
   "cell_type": "code",
   "execution_count": 5,
   "id": "welsh-disease",
   "metadata": {},
   "outputs": [],
   "source": [
    "# get data\n",
    "s = 0 # when working with all subjects, this is a for\n",
    "subfolders=settings[\"subfolders\"][s]\n",
    "ss = 0 # when working with all subjects, this is a for, since there are subjects which have more than one session.\n",
    "X_ECOG = [] # to append data\n",
    "X_STN =[] \n",
    "Y_con = []\n",
    "Y_ips = []\n",
    "list_of_files_ecog = os.listdir(settings['data_path']+'ECOG') # list of files in the current directory\n",
    "list_of_files_stn = os.listdir(settings['data_path']+'STN') \n",
    "\n",
    "file_name_ = 'ECOG_epochs_sub_' + settings['num_patients'][s] + '_sess_'+subfolders[ss][4:]\n",
    "\n",
    "file_ecog = [each_file for each_file in list_of_files_ecog if each_file.startswith(file_name_)]\n",
    "file_name_='STN_epochs_sub_' + settings['num_patients'][s] + '_sess_'+subfolders[ss][4:]\n",
    "\n",
    "# only load data from runs in which both modali\n",
    "file_stn= [each_file for each_file in list_of_files_stn if each_file.startswith(file_name_)]\n",
    "idx_file = [f for f in file_stn if list(set() & set(file_ecog))]\n",
    "matching_stn = [f for f in file_stn if any(f[4:] in xs for xs in file_ecog)]\n",
    "matching_ecog = [f for f in file_ecog if any(f[4:] in xs for xs in file_stn)]\n",
    "\n",
    "if len(matching_ecog) != len(matching_stn):\n",
    "    raise('Error loading data')\n",
    "\n",
    "for e in range(len(matching_ecog)):\n",
    "    with open(settings['data_path'] +'ECOG/' + matching_ecog[e], 'rb') as handle:\n",
    "        sub_ = pickle.load(handle)    \n",
    "        data = sub_['epochs']\n",
    "        X_ECOG.append(data)\n",
    "        label_ips = sub_['label_ips']\n",
    "        label_con = sub_['label_con']\n",
    "        Y_con.append(label_con)\n",
    "        Y_ips.append(label_ips)\n",
    "    with open(settings['data_path'] +'STN/' + matching_stn[e], 'rb') as handle:\n",
    "        sub_ = pickle.load(handle)\n",
    "        data = sub_['epochs']\n",
    "        X_STN.append(data)           \n",
    "\n",
    "X_ECOG = np.concatenate(X_ECOG, axis=0)\n",
    "X_STN = np.concatenate(X_STN, axis=0)\n",
    "Y_con = np.concatenate(Y_con, axis=0)\n",
    "Y_ips = np.concatenate(Y_ips, axis=0)  "
   ]
  },
  {
   "cell_type": "markdown",
   "id": "handy-background",
   "metadata": {},
   "source": [
    "Run the experiment!\n",
    "(and be patient, it can take a time!)"
   ]
  },
  {
   "cell_type": "code",
   "execution_count": 7,
   "id": "seven-candidate",
   "metadata": {},
   "outputs": [
    {
     "name": "stdout",
     "output_type": "stream",
     "text": [
      "training CON\n",
      "training IPS\n"
     ]
    }
   ],
   "source": [
    "for l, mov in enumerate(laterality):\n",
    "    print(\"training %s\" %mov)\n",
    "    \n",
    "    score_ecog[mov] = []\n",
    "    Coef_ecog[mov] = []\n",
    "    \n",
    "    score_stn[mov] = []\n",
    "    Coef_stn[mov] = []\n",
    "    \n",
    "    score_comb[mov] = []\n",
    "    Coef_comb[mov] = []\n",
    "\n",
    "    if l==0:\n",
    "        label=Y_con\n",
    "    else:\n",
    "        label=Y_ips\n",
    "\n",
    "    features_ecog=FilterBank(estimator=spoc)\n",
    "    features_stn=FilterBank(estimator=spoc)\n",
    "\n",
    "    X_ECOG=X_ECOG.astype('float64')\n",
    "    X_STN=X_STN.astype('float64')\n",
    "\n",
    "    for train_index, test_index in cv.split(label):\n",
    "        Ztr, Zte = label[train_index], label[test_index]\n",
    "        Xtr_ecog, Xte_ecog = X_ECOG[train_index], X_ECOG[test_index]\n",
    "        Xtr_stn, Xte_stn = X_STN[train_index], X_STN[test_index]\n",
    "        # features are learned from each modality and then, if combined, concatenated\n",
    "        Gtr_ecog_spoc, Gtr_stn_spoc = features_ecog.fit_transform(Xtr_ecog, Ztr), features_stn.fit_transform(Xtr_stn, Ztr)\n",
    "        Gte_ecog_spoc, Gte_stn_spoc = features_ecog.transform(Xte_ecog), features_stn.transform(Xte_stn)\n",
    "        \n",
    "        for m, mod in enumerate(modality):           \n",
    "            if mod == 'ECOG':\n",
    "                dat_tr, dat_te = Gtr_ecog_spoc, Gte_ecog_spoc\n",
    "            elif mod == 'STN':\n",
    "                dat_tr, dat_te = Gtr_stn_spoc, Gte_stn_spoc\n",
    "            else:\n",
    "                dat_tr=np.hstack((Gtr_ecog_spoc,Gtr_stn_spoc))\n",
    "                dat_te=np.hstack((Gte_ecog_spoc,Gte_stn_spoc))\n",
    "\n",
    "            # get the model\n",
    "            clf, optimizer = get_model(USED_MODEL, x=dat_tr, y=Ztr)\n",
    "    \n",
    "            scaler = StandardScaler()\n",
    "            scaler.fit(dat_tr)\n",
    "            dat_tr = scaler.transform(dat_tr)\n",
    "            dat_te = scaler.transform(dat_te)\n",
    "            \n",
    "            # fit the model\n",
    "            clf.fit(dat_tr, Ztr)\n",
    "            \n",
    "            # predict\n",
    "            r2_te = r2_score(Zte, clf.predict(dat_te))\n",
    "            if r2_te < 0: r2_te = 0\n",
    "\n",
    "            if mod=='ECOG':\n",
    "                score_ecog[mov].append(r2_te)\n",
    "                Coef_ecog[mov].append(clf.beta_)\n",
    "            elif mod == 'STN':\n",
    "                score_stn[mov].append(r2_te)\n",
    "                Coef_stn[mov].append(clf.beta_)\n",
    "\n",
    "            else:\n",
    "                score_comb[mov].append(r2_te)\n",
    "                Coef_comb[mov].append(clf.beta_)\n",
    "\n",
    "    \n",
    "        del Xtr_ecog, Xte_ecog, Xtr_stn, Xte_stn"
   ]
  },
  {
   "cell_type": "markdown",
   "id": "moderate-malta",
   "metadata": {},
   "source": [
    "### Let's visualize the results"
   ]
  },
  {
   "cell_type": "code",
   "execution_count": 54,
   "id": "substantial-piece",
   "metadata": {},
   "outputs": [
    {
     "data": {
      "text/plain": [
       "Text(0.5, 0, '')"
      ]
     },
     "execution_count": 54,
     "metadata": {},
     "output_type": "execute_result"
    },
    {
     "data": {
      "image/png": "[encoded data removed]",
      "text/plain": [
       "<Figure size 600x600 with 1 Axes>"
      ]
     },
     "metadata": {
      "needs_background": "light"
     },
     "output_type": "display_data"
    }
   ],
   "source": [
    "#plot comparative results\n",
    "import pandas as pd\n",
    "import seaborn as sb\n",
    "nam_lat=['contralateral', 'ipsilateral']\n",
    "df = pd.DataFrame()\n",
    "for l, lat in enumerate(laterality):\n",
    "    data = np.vstack((score_comb[lat], score_ecog[lat], score_stn[lat]))\n",
    "    df_all=pd.DataFrame(data=data.T, columns=[ \"ECoG+STN-LFP\", \"ECoG\", \"STN-LFP\"])\n",
    "    \n",
    "    df_all = df_all.stack().reset_index()\n",
    "    df_all = df_all.rename(columns={'level_0': 'folds',\n",
    "                                                        'level_1': 'Method',\n",
    "                                                    0:'R2'})    \n",
    "    \n",
    "    df_all[\"lat\"] = nam_lat[l]\n",
    "    df=pd.concat([df, df_all])      \n",
    "    \n",
    "alpha_box = 0.5\n",
    "\n",
    "\n",
    "plt.figure(figsize=(4,4), dpi=150)\n",
    "plt.subplots_adjust(bottom=0.18)\n",
    "sb.boxplot(x=\"lat\", y=\"R2\", hue=\"Method\",  \n",
    "            data=df, palette=\"rocket\", \n",
    "            showmeans=False, boxprops=dict(alpha=alpha_box), showcaps=True, showbox=True, \n",
    "            showfliers=False, notch=False,\n",
    "            whiskerprops={'linewidth':2, \"zorder\":10, \"alpha\":alpha_box},\n",
    "            capprops={\"alpha\":alpha_box},\n",
    "            medianprops=dict(linestyle='-', linewidth=4, color=\"black\", alpha=alpha_box))\n",
    "\n",
    "    \n",
    "ax = sb.stripplot(x=\"lat\", y=\"R2\", hue=\"Method\",  \n",
    "              data=df,palette=\"rocket\", dodge=True, s=5, alpha=0.9)\n",
    "\n",
    "# When creating the legend, only use the first two elements\n",
    "# to effectively remove the last two.\n",
    "handles, labels = ax.get_legend_handles_labels()\n",
    "l = plt.legend(handles[0:3], labels[0:3], bbox_to_anchor=(0, 1.02, 1, 0.5), loc=8, borderaxespad=0., ncol=3)\n",
    "ax.set_xlabel('')"
   ]
  },
  {
   "cell_type": "code",
   "execution_count": 52,
   "id": "unlike-forth",
   "metadata": {},
   "outputs": [
    {
     "data": {
      "image/png": "[encoded data removed]",
      "text/plain": [
       "<Figure size 432x288 with 4 Axes>"
      ]
     },
     "metadata": {
      "needs_background": "light"
     },
     "output_type": "display_data"
    }
   ],
   "source": [
    "# plot coefficients\n",
    "def scale(X, a,b):\n",
    "    X_norm=X.copy()\n",
    "    nom = X[X!=0]-np.min(X)\n",
    "    denom = np.max(X) - np.min(X)\n",
    "    X_norm[X!=0]=(b-a)*(nom/denom) + a\n",
    "    return X_norm\n",
    "\n",
    "fig, ax = plt.subplots(1,3)\n",
    "fig.suptitle('GLM coefficients value')\n",
    "# we plot here contralateral coeff\n",
    "for i, mod in enumerate(modality):\n",
    "    if mod=='ECOG':\n",
    "        coefs = Coef_ecog['CON']\n",
    "    elif mod == 'STN':\n",
    "        coefs = Coef_stn['CON']\n",
    "    else:\n",
    "        coefs = Coef_comb['CON']\n",
    "    coef=np.mean(coefs,axis=0)\n",
    "    # transformation needed to better interpretation of the results\n",
    "    coef=(-1)*(np.exp(coef)- np.ones((len(coef))))\n",
    "\n",
    "    coef=coef.reshape(8, -1, order='F')\n",
    "    coef=scale(coef, -1,1)\n",
    "    sp=ax[i].imshow(coef,extent=[0,2, 0, 8])\n",
    "    ax[i].invert_xaxis()\n",
    "    ax[i].set_yticks(np.arange(0.5, 8.5, 1));\n",
    "    ax[i].set_yticklabels([r'$\\theta$', r'$\\alpha$', r'$l\\beta$', r'$h\\beta$', \\\n",
    "                             r'$a\\beta$', r'$l\\gamma$', r'$h\\gamma$', r'$a\\gamma$']);\n",
    "    ax[i].set_ylabel('Frequency band')\n",
    "    if i==2: fig.colorbar(sp)\n",
    "    if mod=='ECOG':\n",
    "        ax[i].set_xticks([1]);\n",
    "        ax[i].set_xticklabels(['ECoG'], rotation='vertical');\n",
    "    elif mod == 'STN':\n",
    "        ax[i].set_xticks([1]);\n",
    "        ax[i].set_xticklabels(['STN-LFP'], rotation='vertical');\n",
    "    else:\n",
    "        ax[i].set_xticks([0.5 , 1.5]);\n",
    "        ax[i].set_xticklabels(['ECoG', 'STN-LFP'], rotation='vertical');"
   ]
  }
 ],
 "metadata": {
  "kernelspec": {
   "display_name": "Python 3",
   "language": "python",
   "name": "python3"
  },
  "language_info": {
   "codemirror_mode": {
    "name": "ipython",
    "version": 3
   },
   "file_extension": ".py",
   "mimetype": "text/x-python",
   "name": "python",
   "nbconvert_exporter": "python",
   "pygments_lexer": "ipython3",
   "version": "3.7.10"
  }
 },
 "nbformat": 4,
 "nbformat_minor": 5
}
