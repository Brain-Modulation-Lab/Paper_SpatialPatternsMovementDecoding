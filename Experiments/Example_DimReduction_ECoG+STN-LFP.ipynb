{
 "cells": [
  {
   "cell_type": "markdown",
   "id": "outside-distance",
   "metadata": {},
   "source": [
    "## ECoG+STN-LFP dimentionality reduction analysis: demo "
   ]
  },
  {
   "cell_type": "code",
   "execution_count": 1,
   "id": "damaged-waterproof",
   "metadata": {},
   "outputs": [],
   "source": [
    "# Import libraries\n",
    "import numpy as np\n",
    "from matplotlib import pyplot as plt\n",
    "from sklearn.metrics import r2_score\n",
    "import mne\n",
    "from mne.decoding import SPoC\n",
    "mne.set_log_level(verbose='warning') #to avoid info at terminal\n",
    "import pickle \n",
    "import sys\n",
    "# from Utilities folder\n",
    "sys.path.insert(1, './Utilities/icn_m1')\n",
    "import os\n",
    "sys.path.insert(1, './Utilities/')\n",
    "from FilterBank import FilterBank\n",
    "from ML_models import get_model\n",
    "\n",
    "from collections import OrderedDict\n",
    "from sklearn.model_selection import KFold\n",
    "from sklearn.preprocessing import StandardScaler\n",
    "from sklearn.linear_model import LinearRegression\n",
    "from scipy.linalg import norm\n",
    "from pyglmnet import GLM"
   ]
  },
  {
   "cell_type": "code",
   "execution_count": 2,
   "id": "handmade-timeline",
   "metadata": {},
   "outputs": [],
   "source": [
    "# define settings\n",
    "# change them accordinly\n",
    "settings = {}\n",
    "settings['data_path'] = 'YOUR_ADDRESS'\n",
    "settings['num_patients'] = ['000'] # for this example we only use one subject\n",
    "# subfolders indicates the session in this dataset\n",
    "settings['subfolders']=[['ses-right']]  # this subject only has one session"
   ]
  },
  {
   "cell_type": "code",
   "execution_count": 3,
   "id": "ignored-blast",
   "metadata": {},
   "outputs": [],
   "source": [
    "# define some experiments and model parameters\n",
    "laterality = [\"CON\", \"IPS\"]\n",
    "\n",
    "cv = KFold(n_splits=5, shuffle=False)\n",
    "spoc = SPoC(n_components=1, log=True, reg='oas', transform_into ='average_power', rank='full')\n",
    "USED_MODEL = 3 # 3 == GLM with alpha 0.5"
   ]
  },
  {
   "cell_type": "markdown",
   "id": "preceding-breakfast",
   "metadata": {},
   "source": [
    "### Load the data from both modalities.\n",
    "This data was already pre-processed, following these steps:\n",
    "1. Epochs of 100 ms were extracted.\n",
    "2. Band-passed filtered epoched data at 8 frequency bands ([4, 8], [8, 12], [13, 20], [20, 35], [13, 35], [60, 80], [90, 200], [60, 200])\n",
    "3. The target variable was downsampled accordinly to the 100 ms epoch lenght.\n",
    "\n",
    "If you want to run this code with your own data, please be sure of arranging your data in a 4d array as follows:\n",
    "(epochs, channels, samples, frequency bands)"
   ]
  },
  {
   "cell_type": "code",
   "execution_count": 4,
   "id": "sharing-measure",
   "metadata": {},
   "outputs": [],
   "source": [
    "# declare saving variable\n",
    "Ypre_te = OrderedDict()\n",
    "score_te = OrderedDict()\n",
    "Coef = OrderedDict()\n",
    "Label_te = OrderedDict()          \n",
    "df = OrderedDict()        "
   ]
  },
  {
   "cell_type": "code",
   "execution_count": 5,
   "id": "violent-jurisdiction",
   "metadata": {},
   "outputs": [],
   "source": [
    "s = 0 # when working with all subjects, this is a for\n",
    "subfolders=settings[\"subfolders\"][s]\n",
    "ss = 0 # when working with all subjects, this is a for, since there are subjects which have more than one session.\n",
    "X_ECOG = [] # to append data\n",
    "X_STN =[] \n",
    "Y_con = []\n",
    "Y_ips = []\n",
    "list_of_files_ecog = os.listdir(settings['data_path']+'ECOG') # list of files in the current directory\n",
    "list_of_files_stn = os.listdir(settings['data_path']+'STN') \n",
    "\n",
    "file_name_ = 'ECOG_epochs_sub_' + settings['num_patients'][s] + '_sess_'+subfolders[ss][4:]\n",
    "\n",
    "file_ecog = [each_file for each_file in list_of_files_ecog if each_file.startswith(file_name_)]\n",
    "file_name_='STN_epochs_sub_' + settings['num_patients'][s] + '_sess_'+subfolders[ss][4:]\n",
    "\n",
    "# only load data from runs in which both modali\n",
    "file_stn= [each_file for each_file in list_of_files_stn if each_file.startswith(file_name_)]\n",
    "idx_file = [f for f in file_stn if list(set() & set(file_ecog))]\n",
    "matching_stn = [f for f in file_stn if any(f[4:] in xs for xs in file_ecog)]\n",
    "matching_ecog = [f for f in file_ecog if any(f[4:] in xs for xs in file_stn)]\n",
    "\n",
    "if len(matching_ecog) != len(matching_stn):\n",
    "    raise('Error loading data')\n",
    "\n",
    "for e in range(len(matching_ecog)):\n",
    "    with open(settings['data_path'] +'ECOG/' + matching_ecog[e], 'rb') as handle:\n",
    "        sub_ = pickle.load(handle)    \n",
    "        data = sub_['epochs']\n",
    "        X_ECOG.append(data)\n",
    "        label_ips = sub_['label_ips']\n",
    "        label_con = sub_['label_con']\n",
    "        Y_con.append(label_con)\n",
    "        Y_ips.append(label_ips)\n",
    "    with open(settings['data_path'] +'STN/' + matching_stn[e], 'rb') as handle:\n",
    "        sub_ = pickle.load(handle)\n",
    "        data = sub_['epochs']\n",
    "        X_STN.append(data)           \n",
    "\n",
    "X_ECOG = np.concatenate(X_ECOG, axis=0)\n",
    "X_STN = np.concatenate(X_STN, axis=0)\n",
    "Y_con = np.concatenate(Y_con, axis=0)\n",
    "Y_ips = np.concatenate(Y_ips, axis=0)  "
   ]
  },
  {
   "cell_type": "markdown",
   "id": "personal-fancy",
   "metadata": {},
   "source": [
    "### Run the experiment!\n",
    "(and be patient, it can take a time!)"
   ]
  },
  {
   "cell_type": "code",
   "execution_count": 6,
   "id": "intensive-function",
   "metadata": {},
   "outputs": [
    {
     "name": "stdout",
     "output_type": "stream",
     "text": [
      "training CON\n",
      "training IPS\n"
     ]
    }
   ],
   "source": [
    "for l, mov in enumerate(laterality):\n",
    "    print(\"training %s\" %mov)\n",
    "    score_te[mov] = []\n",
    "    Ypre_te[mov] = []\n",
    "    Label_te[mov] = []\n",
    "    Coef[mov] = []\n",
    "    df[mov] = []\n",
    "\n",
    "    if l==0:\n",
    "        label=Y_con\n",
    "    else:\n",
    "        label=Y_ips\n",
    "\n",
    "    features_ecog=FilterBank(estimator=spoc)\n",
    "    features_stn=FilterBank(estimator=spoc)\n",
    "\n",
    "    X_ECOG=X_ECOG.astype('float64')\n",
    "    X_STN=X_STN.astype('float64')\n",
    "\n",
    "    for train_index, test_index in cv.split(label):\n",
    "        Ztr, Zte=label[train_index], label[test_index]\n",
    "        Xtr_ecog, Xte_ecog=X_ECOG[train_index], X_ECOG[test_index]\n",
    "        Xtr_stn, Xte_stn=X_STN[train_index], X_STN[test_index]\n",
    "        Gtr_ecog_cspoc, Gtr_stn_cspoc = features_ecog.fit_transform(Xtr_ecog, Ztr), features_stn.fit_transform(Xtr_stn, Ztr)\n",
    "        Gte_ecog_cspoc, Gte_stn_cspoc = features_ecog.transform(Xte_ecog), features_stn.transform(Xte_stn)\n",
    "\n",
    "        dat_tr=np.hstack((Gtr_ecog_cspoc,Gtr_stn_cspoc))\n",
    "        dat_te=np.hstack((Gte_ecog_cspoc,Gte_stn_cspoc))\n",
    "\n",
    "        Label_te[mov].append(Zte)\n",
    "\n",
    "        # dimenstionallity reduction is going to be done by manually adjusting the reg_lambda\n",
    "        scaler = StandardScaler()\n",
    "        scaler.fit(dat_tr)\n",
    "        dat_tr = scaler.transform(dat_tr)\n",
    "        dat_te = scaler.transform(dat_te)\n",
    "        # ols solution, needed to estimate the lambda_min\n",
    "        ols = LinearRegression()\n",
    "        ols.fit(dat_tr, Ztr)\n",
    "        beta_ols = ols.coef_\n",
    "        lambda_min = norm((dat_tr * beta_ols).T * Ztr) / len(Ztr) #all values are non-zeros\n",
    "        lambda_max = norm((dat_tr.T * Ztr), np.inf) / len(Ztr) # all values are zero\n",
    "        rango = [lambda_min] * np.logspace(-2, 1,10)\n",
    "        for rr, reg in enumerate(rango):\n",
    "\n",
    "            clf=GLM(distr='poisson', alpha=0.5, score_metric='pseudo_R2', reg_lambda=reg)\n",
    "            # fit the model\n",
    "            clf.fit(dat_tr, Ztr)\n",
    "            # predict\n",
    "            Ypre_te[mov].append(clf.predict(dat_te))\n",
    "\n",
    "            r2_te = r2_score(Zte, clf.predict(dat_te))\n",
    "            if r2_te < 0: r2_te = 0\n",
    "            score_te[mov].append(r2_te)\n",
    "           \n",
    "            Coef[mov].append(clf.beta_)\n",
    "            df[mov].append(np.count_nonzero(clf.beta_)) #degree of freedom\n",
    "\n",
    "        del Xtr_ecog, Xte_ecog, Xtr_stn, Xte_stn"
   ]
  },
  {
   "cell_type": "markdown",
   "id": "careful-stomach",
   "metadata": {},
   "source": [
    "### Let's visualize the results"
   ]
  },
  {
   "cell_type": "code",
   "execution_count": 8,
   "id": "interested-spoke",
   "metadata": {},
   "outputs": [
    {
     "data": {
      "text/plain": [
       "<matplotlib.legend.Legend at 0x256349b8888>"
      ]
     },
     "execution_count": 8,
     "metadata": {},
     "output_type": "execute_result"
    },
    {
     "data": {
      "image/png": "[encoded data removed]",
      "text/plain": [
       "<Figure size 432x288 with 1 Axes>"
      ]
     },
     "metadata": {
      "needs_background": "light"
     },
     "output_type": "display_data"
    }
   ],
   "source": [
    "# plot R2 vs #non-zero coefficients\n",
    "def duplicates(lst, item):\n",
    "    return [i for i, x in enumerate(lst) if x == item]\n",
    "score=np.zeros((16,))\n",
    "fig, ax=plt.subplots()\n",
    "name_laterality=[\"contralateral\", \"ipsilateral\"]\n",
    "colors=['indigo', 'royalblue']\n",
    "for l, lat in enumerate(laterality):\n",
    "    dof = df[lat]\n",
    "    sc = score_te[lat]\n",
    "    sc_sort = np.asarray([x for _,x in sorted(zip(dof,sc))])\n",
    "    df_sort = [x for _,x in sorted(zip(dof,dof))]  \n",
    "    index=np.argsort(dof)\n",
    "    coef=Coef[lat]\n",
    "    coef_sort=np.array(coef)[index.astype(int)]\n",
    "    values_df=set(df_sort)\n",
    "    sc_mean=[]\n",
    "    for i, val in enumerate(values_df):\n",
    "        ind_tomean=duplicates(df_sort, val)\n",
    "        sc_mean=np.mean(sc_sort[np.asarray(ind_tomean)])\n",
    "        score[val-1]=sc_mean\n",
    "        \n",
    "    ax.plot(np.arange(1,17,1),score, fillstyle='full', markeredgewidth=0.1,  marker='o', markersize=8, \n",
    "                        markerfacecolor=colors[l],\n",
    "                        linestyle='--', color=colors[l],\n",
    "                        label=name_laterality[l])\n",
    "    \n",
    "ax.grid(color='gray', linestyle='--', linewidth=0.5, axis='y')\n",
    "ax.grid(color='gray', linestyle='--', linewidth=0.5, axis='x')\n",
    "ax.set_ylabel(\"mean R2\")\n",
    "ax.set_xlabel(\"#non-zero coefficients\")\n",
    "ax.legend()"
   ]
  },
  {
   "cell_type": "markdown",
   "id": "hollow-muslim",
   "metadata": {},
   "source": [
    "We can see how the sparsity in the solution impacts in the movement decoding performance. For this particular subject best decoding performance for contralateral movement is found when the number of non-zero coefficients in the solution is 14. If we compare these results to what is shown previously in the example \"Example_ECoG+STN-LFP\", it is easy to see that the ECoG+STN-LFP approach is superior than when either ECoG or STN recordings are used to make de decoding."
   ]
  }
 ],
 "metadata": {
  "kernelspec": {
   "display_name": "Python 3",
   "language": "python",
   "name": "python3"
  },
  "language_info": {
   "codemirror_mode": {
    "name": "ipython",
    "version": 3
   },
   "file_extension": ".py",
   "mimetype": "text/x-python",
   "name": "python",
   "nbconvert_exporter": "python",
   "pygments_lexer": "ipython3",
   "version": "3.7.10"
  }
 },
 "nbformat": 4,
 "nbformat_minor": 5
}
